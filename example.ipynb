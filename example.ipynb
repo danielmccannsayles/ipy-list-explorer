{
 "cells": [
  {
   "cell_type": "code",
   "execution_count": 1,
   "id": "b1ceda8f",
   "metadata": {},
   "outputs": [],
   "source": [
    "%load_ext autoreload\n",
    "\n",
    "%autoreload 2"
   ]
  },
  {
   "cell_type": "code",
   "execution_count": null,
   "id": "88df6fd0",
   "metadata": {},
   "outputs": [
    {
     "data": {
      "application/vnd.jupyter.widget-view+json": {
       "model_id": "dd5ed01cfb154181b015f048f571a45f",
       "version_major": 2,
       "version_minor": 0
      },
      "text/plain": [
       "VBox(children=(HTML(value='<style>\\n.light-scrollbar::-webkit-scrollbar {\\n    width: 8px;\\n    height: 8px;\\n…"
      ]
     },
     "metadata": {},
     "output_type": "display_data"
    },
    {
     "data": {
      "text/plain": [
       "<src.ipy_list_explorer.widget.ListExplorer at 0x111b5f950>"
      ]
     },
     "execution_count": 2,
     "metadata": {},
     "output_type": "execute_result"
    }
   ],
   "source": [
    "from src.ipy_list_explorer.widget import ListExplorer\n",
    "\n",
    "items = [\"Hi\",\n",
    "\"hello\",\n",
    "\"Whattt\\n\" *500]\n",
    "\n",
    "ListExplorer(items)"
   ]
  },
  {
   "cell_type": "code",
   "execution_count": 3,
   "id": "a1727286",
   "metadata": {},
   "outputs": [
    {
     "data": {
      "application/vnd.jupyter.widget-view+json": {
       "model_id": "981648c7849c445fb01a7490bd391387",
       "version_major": 2,
       "version_minor": 0
      },
      "text/plain": [
       "IntSlider(value=1)"
      ]
     },
     "execution_count": 3,
     "metadata": {},
     "output_type": "execute_result"
    }
   ],
   "source": [
    "IntSlider(1)"
   ]
  }
 ],
 "metadata": {
  "kernelspec": {
   "display_name": ".venv",
   "language": "python",
   "name": "python3"
  },
  "language_info": {
   "codemirror_mode": {
    "name": "ipython",
    "version": 3
   },
   "file_extension": ".py",
   "mimetype": "text/x-python",
   "name": "python",
   "nbconvert_exporter": "python",
   "pygments_lexer": "ipython3",
   "version": "3.12.5"
  }
 },
 "nbformat": 4,
 "nbformat_minor": 5
}
